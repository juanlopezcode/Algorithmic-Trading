{
  "nbformat": 4,
  "nbformat_minor": 0,
  "metadata": {
    "colab": {
      "name": "08_Algorithmic_Trading_Machine_L.ipynb",
      "provenance": [],
      "collapsed_sections": []
    },
    "kernelspec": {
      "name": "python3",
      "display_name": "Python 3"
    }
  },
  "cells": [
    {
      "cell_type": "code",
      "metadata": {
        "id": "k0gn8HYAQ7MV"
      },
      "source": [
        "import warnings\r\n",
        "warnings.simplefilter(action='ignore', category=FutureWarning)\r\n",
        "\r\n",
        "import requests\r\n",
        "import pandas as pd\r\n",
        "from datetime import datetime, timedelta\r\n",
        "import numpy as np\r\n",
        "import matplotlib.pyplot as plt"
      ],
      "execution_count": 1,
      "outputs": []
    },
    {
      "cell_type": "code",
      "metadata": {
        "id": "19WwqvjwRPTE"
      },
      "source": [
        "pairs = [\"XRP\",\"LINK\",\"ADA\",\"ETH\",\"DOT\",\"BTC\",\"TRX\",\"KAVA\",\"AAVE\",\"UNI\",\\\r\n",
        "         \"GRT\",\"COMP\",\"WAVES\",\"KSM\",\"YFI\",\"ATOM\",\"EOS\",\"BAT\",\"DOGE\",\"DASH\",\\\r\n",
        "         \"ZEC\",\"ETC\",\"FIL\",\"ALGO\"]\r\n",
        "        \r\n",
        "long_pairs = [\"XXRPZEUR\",\"LINKEUR\",\"ADAEUR\",\"XETHZEUR\",\"DOTEUR\",\"XXBTZEUR\",\\\r\n",
        "             \"TRXEUR\",\"KAVAEUR\",\"AAVEEUR\",\"UNIEUR\",\"GRTEUR\",\"COMPEUR\",\"WAVESEUR\",\\\r\n",
        "             \"KSMEUR\",\"YFIEUR\",\"ATOMEUR\",\"EOSEUR\",\"BATEUR\",\"XDGEUR\",\"DASHEUR\",\\\r\n",
        "              \"XZECZEUR\",\"XETCZEUR\",\"FILEUR\",\"ALGOEUR\"]\r\n",
        "\r\n",
        "\r\n",
        "\r\n",
        "\r\n",
        "dfs = []\r\n",
        "\r\n",
        "for pair,long_pair in zip(pairs,long_pairs):\r\n",
        "\r\n",
        "  response = requests.get(f\"https://api.kraken.com/0/public/OHLC?pair={pair}EUR&since=0&interval=1440\")\r\n",
        "  response = response.json()[\"result\"][long_pair]\r\n",
        "\r\n",
        "  date = [item[0] for item in response]\r\n",
        "  date = [datetime.utcfromtimestamp(item).strftime('%Y-%m-%d %H') for item in date]\r\n",
        "  date = pd.to_datetime(date)\r\n",
        "\r\n",
        "  close = [item[4] for item in response]\r\n",
        "  volume = [item[6] for item in response]\r\n",
        "\r\n",
        "  df = pd.DataFrame(index = date, data=list(zip(close,volume)),\\\r\n",
        "                    columns=(f\"{pair}_close\",f\"{pair}_volume\"))\r\n",
        "  df = df.astype(float)\r\n",
        "  dfs.append(df)\r\n",
        "\r\n",
        "\r\n",
        "df_main = pd.DataFrame(index=dfs[0].index)\r\n",
        "\r\n",
        "\r\n",
        "\r\n",
        "for df in dfs:\r\n",
        "  df_main = pd.concat([df_main,df], axis=1)\r\n",
        "\r\n",
        "df_main.dropna(axis=0, how=\"any\", inplace=True)\r\n",
        "\r\n",
        "for pair in pairs:\r\n",
        "  df_main[f\"{pair}_return\"] = df_main[f\"{pair}_close\"].pct_change(1)\r\n",
        "\r\n",
        "\r\n",
        "dfs_returns = pd.DataFrame(index=df_main.index)\r\n",
        "\r\n",
        "for pair in pairs:\r\n",
        "  df = df_main[[f\"{pair}_return\"]]\r\n",
        "  dfs_returns = pd.concat([dfs_returns,df], axis=1)\r\n",
        "\r\n",
        "\r\n",
        "df_close = df_main[[\"XRP_close\",\"LINK_close\",\"ADA_close\",\"ETH_close\",\"DOT_close\",\\\r\n",
        "         \"BTC_close\",\"TRX_close\",\"KAVA_close\",\"AAVE_close\",\"UNI_close\",\\\r\n",
        "         \"GRT_close\",\"COMP_close\",\"WAVES_close\",\"KSM_close\",\"YFI_close\",\\\r\n",
        "         \"ATOM_close\",\"EOS_close\",\"BAT_close\",\"DOGE_close\",\"DASH_close\",\\\r\n",
        "         \"ZEC_close\",\"ETC_close\",\"FIL_close\",\"ALGO_close\"]].copy()"
      ],
      "execution_count": 32,
      "outputs": []
    },
    {
      "cell_type": "code",
      "metadata": {
        "id": "bsmheOhIRTK6"
      },
      "source": [
        "# Will be used returns due prices are not stationary \r\n",
        "# even normalizing the data the future data can be outside range\r\n",
        "# and returns are more -stationary"
      ],
      "execution_count": 4,
      "outputs": []
    },
    {
      "cell_type": "code",
      "metadata": {
        "id": "Wg4GIMdZePdY"
      },
      "source": [
        "# rows with missing values dropped, in this case as there are \"new\" coins,\r\n",
        "# the dataframe of returns become small, to have real returns for all coins."
      ],
      "execution_count": 29,
      "outputs": []
    },
    {
      "cell_type": "markdown",
      "metadata": {
        "id": "EJV8snlwhh1t"
      },
      "source": [
        "# **Pre-Processing**"
      ]
    },
    {
      "cell_type": "code",
      "metadata": {
        "colab": {
          "base_uri": "https://localhost:8080/"
        },
        "id": "s0vzkz8McxJr",
        "outputId": "f27bb403-b5cc-4e35-821e-cd7789462067"
      },
      "source": [
        "dfs_returns.shape"
      ],
      "execution_count": 33,
      "outputs": [
        {
          "output_type": "execute_result",
          "data": {
            "text/plain": [
              "(66, 24)"
            ]
          },
          "metadata": {
            "tags": []
          },
          "execution_count": 33
        }
      ]
    },
    {
      "cell_type": "code",
      "metadata": {
        "colab": {
          "base_uri": "https://localhost:8080/",
          "height": 292
        },
        "id": "eakM9Poldckb",
        "outputId": "cf8f76fb-f577-434f-e321-79a90a1f383d"
      },
      "source": [
        "dfs_returns.head()"
      ],
      "execution_count": 34,
      "outputs": [
        {
          "output_type": "execute_result",
          "data": {
            "text/html": [
              "<div>\n",
              "<style scoped>\n",
              "    .dataframe tbody tr th:only-of-type {\n",
              "        vertical-align: middle;\n",
              "    }\n",
              "\n",
              "    .dataframe tbody tr th {\n",
              "        vertical-align: top;\n",
              "    }\n",
              "\n",
              "    .dataframe thead th {\n",
              "        text-align: right;\n",
              "    }\n",
              "</style>\n",
              "<table border=\"1\" class=\"dataframe\">\n",
              "  <thead>\n",
              "    <tr style=\"text-align: right;\">\n",
              "      <th></th>\n",
              "      <th>XRP_return</th>\n",
              "      <th>LINK_return</th>\n",
              "      <th>ADA_return</th>\n",
              "      <th>ETH_return</th>\n",
              "      <th>DOT_return</th>\n",
              "      <th>BTC_return</th>\n",
              "      <th>TRX_return</th>\n",
              "      <th>KAVA_return</th>\n",
              "      <th>AAVE_return</th>\n",
              "      <th>UNI_return</th>\n",
              "      <th>GRT_return</th>\n",
              "      <th>COMP_return</th>\n",
              "      <th>WAVES_return</th>\n",
              "      <th>KSM_return</th>\n",
              "      <th>YFI_return</th>\n",
              "      <th>ATOM_return</th>\n",
              "      <th>EOS_return</th>\n",
              "      <th>BAT_return</th>\n",
              "      <th>DOGE_return</th>\n",
              "      <th>DASH_return</th>\n",
              "      <th>ZEC_return</th>\n",
              "      <th>ETC_return</th>\n",
              "      <th>FIL_return</th>\n",
              "      <th>ALGO_return</th>\n",
              "    </tr>\n",
              "  </thead>\n",
              "  <tbody>\n",
              "    <tr>\n",
              "      <th>2020-12-18</th>\n",
              "      <td>NaN</td>\n",
              "      <td>NaN</td>\n",
              "      <td>NaN</td>\n",
              "      <td>NaN</td>\n",
              "      <td>NaN</td>\n",
              "      <td>NaN</td>\n",
              "      <td>NaN</td>\n",
              "      <td>NaN</td>\n",
              "      <td>NaN</td>\n",
              "      <td>NaN</td>\n",
              "      <td>NaN</td>\n",
              "      <td>NaN</td>\n",
              "      <td>NaN</td>\n",
              "      <td>NaN</td>\n",
              "      <td>NaN</td>\n",
              "      <td>NaN</td>\n",
              "      <td>NaN</td>\n",
              "      <td>NaN</td>\n",
              "      <td>NaN</td>\n",
              "      <td>NaN</td>\n",
              "      <td>NaN</td>\n",
              "      <td>NaN</td>\n",
              "      <td>NaN</td>\n",
              "      <td>NaN</td>\n",
              "    </tr>\n",
              "    <tr>\n",
              "      <th>2020-12-19</th>\n",
              "      <td>-0.014004</td>\n",
              "      <td>-0.002685</td>\n",
              "      <td>-0.007701</td>\n",
              "      <td>0.002755</td>\n",
              "      <td>-0.008459</td>\n",
              "      <td>0.026978</td>\n",
              "      <td>-0.000944</td>\n",
              "      <td>0.008001</td>\n",
              "      <td>-0.016642</td>\n",
              "      <td>0.046738</td>\n",
              "      <td>0.795455</td>\n",
              "      <td>-0.034754</td>\n",
              "      <td>-0.017386</td>\n",
              "      <td>-0.035349</td>\n",
              "      <td>-0.016626</td>\n",
              "      <td>-0.009075</td>\n",
              "      <td>-0.004965</td>\n",
              "      <td>-0.019472</td>\n",
              "      <td>0.018373</td>\n",
              "      <td>0.007486</td>\n",
              "      <td>-0.006038</td>\n",
              "      <td>0.005000</td>\n",
              "      <td>-0.012282</td>\n",
              "      <td>0.004450</td>\n",
              "    </tr>\n",
              "    <tr>\n",
              "      <th>2020-12-20</th>\n",
              "      <td>-0.032755</td>\n",
              "      <td>-0.026811</td>\n",
              "      <td>-0.010927</td>\n",
              "      <td>-0.025850</td>\n",
              "      <td>-0.021813</td>\n",
              "      <td>-0.010599</td>\n",
              "      <td>0.003976</td>\n",
              "      <td>-0.032275</td>\n",
              "      <td>-0.029408</td>\n",
              "      <td>-0.047132</td>\n",
              "      <td>0.537823</td>\n",
              "      <td>-0.007280</td>\n",
              "      <td>-0.057167</td>\n",
              "      <td>-0.028698</td>\n",
              "      <td>-0.044729</td>\n",
              "      <td>-0.045185</td>\n",
              "      <td>0.030741</td>\n",
              "      <td>-0.051803</td>\n",
              "      <td>0.171704</td>\n",
              "      <td>0.009858</td>\n",
              "      <td>0.010325</td>\n",
              "      <td>0.013012</td>\n",
              "      <td>0.007417</td>\n",
              "      <td>-0.044341</td>\n",
              "    </tr>\n",
              "    <tr>\n",
              "      <th>2020-12-21</th>\n",
              "      <td>-0.072315</td>\n",
              "      <td>-0.055987</td>\n",
              "      <td>-0.053957</td>\n",
              "      <td>-0.046183</td>\n",
              "      <td>-0.059826</td>\n",
              "      <td>-0.029537</td>\n",
              "      <td>-0.060064</td>\n",
              "      <td>-0.048209</td>\n",
              "      <td>-0.050450</td>\n",
              "      <td>-0.064107</td>\n",
              "      <td>-0.361995</td>\n",
              "      <td>-0.074532</td>\n",
              "      <td>-0.072481</td>\n",
              "      <td>-0.078636</td>\n",
              "      <td>-0.057311</td>\n",
              "      <td>0.002240</td>\n",
              "      <td>-0.061170</td>\n",
              "      <td>-0.025175</td>\n",
              "      <td>0.036669</td>\n",
              "      <td>-0.043808</td>\n",
              "      <td>-0.079767</td>\n",
              "      <td>-0.051757</td>\n",
              "      <td>-0.111823</td>\n",
              "      <td>-0.038719</td>\n",
              "    </tr>\n",
              "    <tr>\n",
              "      <th>2020-12-22</th>\n",
              "      <td>-0.128693</td>\n",
              "      <td>0.040076</td>\n",
              "      <td>0.026082</td>\n",
              "      <td>0.049968</td>\n",
              "      <td>0.059321</td>\n",
              "      <td>0.049424</td>\n",
              "      <td>-0.013264</td>\n",
              "      <td>0.002602</td>\n",
              "      <td>0.048465</td>\n",
              "      <td>0.061892</td>\n",
              "      <td>0.154380</td>\n",
              "      <td>0.024978</td>\n",
              "      <td>0.067131</td>\n",
              "      <td>0.094968</td>\n",
              "      <td>0.010033</td>\n",
              "      <td>-0.016346</td>\n",
              "      <td>-0.011227</td>\n",
              "      <td>-0.027289</td>\n",
              "      <td>-0.053415</td>\n",
              "      <td>0.018150</td>\n",
              "      <td>-0.005058</td>\n",
              "      <td>-0.003386</td>\n",
              "      <td>-0.018919</td>\n",
              "      <td>0.036511</td>\n",
              "    </tr>\n",
              "  </tbody>\n",
              "</table>\n",
              "</div>"
            ],
            "text/plain": [
              "            XRP_return  LINK_return  ...  FIL_return  ALGO_return\n",
              "2020-12-18         NaN          NaN  ...         NaN          NaN\n",
              "2020-12-19   -0.014004    -0.002685  ...   -0.012282     0.004450\n",
              "2020-12-20   -0.032755    -0.026811  ...    0.007417    -0.044341\n",
              "2020-12-21   -0.072315    -0.055987  ...   -0.111823    -0.038719\n",
              "2020-12-22   -0.128693     0.040076  ...   -0.018919     0.036511\n",
              "\n",
              "[5 rows x 24 columns]"
            ]
          },
          "metadata": {
            "tags": []
          },
          "execution_count": 34
        }
      ]
    },
    {
      "cell_type": "code",
      "metadata": {
        "colab": {
          "base_uri": "https://localhost:8080/"
        },
        "id": "kY0z2G1BemW1",
        "outputId": "9f20a5f7-d158-43ae-b59a-b58722c4cfba"
      },
      "source": [
        "# In this case the coin to predict will be bitcoin. will be shift by 1 step\r\n",
        "# So input and target will be at the same row. \r\n",
        "\r\n",
        "dfs_returns[\"BTC_return\"] = dfs_returns[\"BTC_return\"].shift(-1)\r\n",
        "dfs_returns[\"BTC_return\"].tail()"
      ],
      "execution_count": 35,
      "outputs": [
        {
          "output_type": "execute_result",
          "data": {
            "text/plain": [
              "2021-02-17   -0.012758\n",
              "2021-02-18    0.078444\n",
              "2021-02-19    0.001939\n",
              "2021-02-20    0.032576\n",
              "2021-02-21         NaN\n",
              "Freq: D, Name: BTC_return, dtype: float64"
            ]
          },
          "metadata": {
            "tags": []
          },
          "execution_count": 35
        }
      ]
    },
    {
      "cell_type": "code",
      "metadata": {
        "id": "OnzWZa6Tf5iy"
      },
      "source": [
        "# Spliting data\r\n",
        "# First row have missing value, will be skipped\r\n",
        "# Last row have missing value, will be skipped\r\n",
        "\r\n",
        "Ntest=10\r\n",
        "train = dfs_returns.iloc[1:-Ntest]\r\n",
        "test = dfs_returns.iloc[-Ntest:-1]"
      ],
      "execution_count": 36,
      "outputs": []
    },
    {
      "cell_type": "code",
      "metadata": {
        "colab": {
          "base_uri": "https://localhost:8080/"
        },
        "id": "2RYL35KXgZoh",
        "outputId": "4fefc154-0648-44b8-9b29-e0efed059910"
      },
      "source": [
        "dfs_returns.columns"
      ],
      "execution_count": 37,
      "outputs": [
        {
          "output_type": "execute_result",
          "data": {
            "text/plain": [
              "Index(['XRP_return', 'LINK_return', 'ADA_return', 'ETH_return', 'DOT_return',\n",
              "       'BTC_return', 'TRX_return', 'KAVA_return', 'AAVE_return', 'UNI_return',\n",
              "       'GRT_return', 'COMP_return', 'WAVES_return', 'KSM_return', 'YFI_return',\n",
              "       'ATOM_return', 'EOS_return', 'BAT_return', 'DOGE_return', 'DASH_return',\n",
              "       'ZEC_return', 'ETC_return', 'FIL_return', 'ALGO_return'],\n",
              "      dtype='object')"
            ]
          },
          "metadata": {
            "tags": []
          },
          "execution_count": 37
        }
      ]
    },
    {
      "cell_type": "code",
      "metadata": {
        "colab": {
          "base_uri": "https://localhost:8080/"
        },
        "id": "K-4ZxG8XgfYh",
        "outputId": "55b68941-48a9-4f69-d3b5-7dff1669121a"
      },
      "source": [
        "# Selecting stocks we want to use \r\n",
        "\r\n",
        "x_cols = ['XRP_return', 'LINK_return', 'ADA_return', 'ETH_return', 'DOT_return',\r\n",
        "        'TRX_return', 'KAVA_return', 'AAVE_return', 'UNI_return',\r\n",
        "       'GRT_return', 'COMP_return', 'WAVES_return', 'KSM_return', 'YFI_return',\r\n",
        "       'ATOM_return', 'EOS_return', 'BAT_return', 'DOGE_return', 'DASH_return',\r\n",
        "       'ZEC_return', 'ETC_return', 'FIL_return', 'ALGO_return']\r\n",
        "\r\n",
        "x_cols"
      ],
      "execution_count": 39,
      "outputs": [
        {
          "output_type": "execute_result",
          "data": {
            "text/plain": [
              "['XRP_return',\n",
              " 'LINK_return',\n",
              " 'ADA_return',\n",
              " 'ETH_return',\n",
              " 'DOT_return',\n",
              " 'TRX_return',\n",
              " 'KAVA_return',\n",
              " 'AAVE_return',\n",
              " 'UNI_return',\n",
              " 'GRT_return',\n",
              " 'COMP_return',\n",
              " 'WAVES_return',\n",
              " 'KSM_return',\n",
              " 'YFI_return',\n",
              " 'ATOM_return',\n",
              " 'EOS_return',\n",
              " 'BAT_return',\n",
              " 'DOGE_return',\n",
              " 'DASH_return',\n",
              " 'ZEC_return',\n",
              " 'ETC_return',\n",
              " 'FIL_return',\n",
              " 'ALGO_return']"
            ]
          },
          "metadata": {
            "tags": []
          },
          "execution_count": 39
        }
      ]
    },
    {
      "cell_type": "code",
      "metadata": {
        "id": "h1Zm_vb2gzyI"
      },
      "source": [
        "Xtrain = train[x_cols]\r\n",
        "Ytrain = train[\"BTC_return\"]\r\n",
        "Xtest = test[x_cols]\r\n",
        "Ytest = test[\"BTC_return\"]"
      ],
      "execution_count": 40,
      "outputs": []
    },
    {
      "cell_type": "code",
      "metadata": {
        "colab": {
          "base_uri": "https://localhost:8080/",
          "height": 292
        },
        "id": "C4yT11xPhL-Y",
        "outputId": "df717f35-e42c-43eb-ae1e-9acfdf9e91fa"
      },
      "source": [
        "Xtrain.head()"
      ],
      "execution_count": 41,
      "outputs": [
        {
          "output_type": "execute_result",
          "data": {
            "text/html": [
              "<div>\n",
              "<style scoped>\n",
              "    .dataframe tbody tr th:only-of-type {\n",
              "        vertical-align: middle;\n",
              "    }\n",
              "\n",
              "    .dataframe tbody tr th {\n",
              "        vertical-align: top;\n",
              "    }\n",
              "\n",
              "    .dataframe thead th {\n",
              "        text-align: right;\n",
              "    }\n",
              "</style>\n",
              "<table border=\"1\" class=\"dataframe\">\n",
              "  <thead>\n",
              "    <tr style=\"text-align: right;\">\n",
              "      <th></th>\n",
              "      <th>XRP_return</th>\n",
              "      <th>LINK_return</th>\n",
              "      <th>ADA_return</th>\n",
              "      <th>ETH_return</th>\n",
              "      <th>DOT_return</th>\n",
              "      <th>TRX_return</th>\n",
              "      <th>KAVA_return</th>\n",
              "      <th>AAVE_return</th>\n",
              "      <th>UNI_return</th>\n",
              "      <th>GRT_return</th>\n",
              "      <th>COMP_return</th>\n",
              "      <th>WAVES_return</th>\n",
              "      <th>KSM_return</th>\n",
              "      <th>YFI_return</th>\n",
              "      <th>ATOM_return</th>\n",
              "      <th>EOS_return</th>\n",
              "      <th>BAT_return</th>\n",
              "      <th>DOGE_return</th>\n",
              "      <th>DASH_return</th>\n",
              "      <th>ZEC_return</th>\n",
              "      <th>ETC_return</th>\n",
              "      <th>FIL_return</th>\n",
              "      <th>ALGO_return</th>\n",
              "    </tr>\n",
              "  </thead>\n",
              "  <tbody>\n",
              "    <tr>\n",
              "      <th>2020-12-19</th>\n",
              "      <td>-0.014004</td>\n",
              "      <td>-0.002685</td>\n",
              "      <td>-0.007701</td>\n",
              "      <td>0.002755</td>\n",
              "      <td>-0.008459</td>\n",
              "      <td>-0.000944</td>\n",
              "      <td>0.008001</td>\n",
              "      <td>-0.016642</td>\n",
              "      <td>0.046738</td>\n",
              "      <td>0.795455</td>\n",
              "      <td>-0.034754</td>\n",
              "      <td>-0.017386</td>\n",
              "      <td>-0.035349</td>\n",
              "      <td>-0.016626</td>\n",
              "      <td>-0.009075</td>\n",
              "      <td>-0.004965</td>\n",
              "      <td>-0.019472</td>\n",
              "      <td>0.018373</td>\n",
              "      <td>0.007486</td>\n",
              "      <td>-0.006038</td>\n",
              "      <td>0.005000</td>\n",
              "      <td>-0.012282</td>\n",
              "      <td>0.004450</td>\n",
              "    </tr>\n",
              "    <tr>\n",
              "      <th>2020-12-20</th>\n",
              "      <td>-0.032755</td>\n",
              "      <td>-0.026811</td>\n",
              "      <td>-0.010927</td>\n",
              "      <td>-0.025850</td>\n",
              "      <td>-0.021813</td>\n",
              "      <td>0.003976</td>\n",
              "      <td>-0.032275</td>\n",
              "      <td>-0.029408</td>\n",
              "      <td>-0.047132</td>\n",
              "      <td>0.537823</td>\n",
              "      <td>-0.007280</td>\n",
              "      <td>-0.057167</td>\n",
              "      <td>-0.028698</td>\n",
              "      <td>-0.044729</td>\n",
              "      <td>-0.045185</td>\n",
              "      <td>0.030741</td>\n",
              "      <td>-0.051803</td>\n",
              "      <td>0.171704</td>\n",
              "      <td>0.009858</td>\n",
              "      <td>0.010325</td>\n",
              "      <td>0.013012</td>\n",
              "      <td>0.007417</td>\n",
              "      <td>-0.044341</td>\n",
              "    </tr>\n",
              "    <tr>\n",
              "      <th>2020-12-21</th>\n",
              "      <td>-0.072315</td>\n",
              "      <td>-0.055987</td>\n",
              "      <td>-0.053957</td>\n",
              "      <td>-0.046183</td>\n",
              "      <td>-0.059826</td>\n",
              "      <td>-0.060064</td>\n",
              "      <td>-0.048209</td>\n",
              "      <td>-0.050450</td>\n",
              "      <td>-0.064107</td>\n",
              "      <td>-0.361995</td>\n",
              "      <td>-0.074532</td>\n",
              "      <td>-0.072481</td>\n",
              "      <td>-0.078636</td>\n",
              "      <td>-0.057311</td>\n",
              "      <td>0.002240</td>\n",
              "      <td>-0.061170</td>\n",
              "      <td>-0.025175</td>\n",
              "      <td>0.036669</td>\n",
              "      <td>-0.043808</td>\n",
              "      <td>-0.079767</td>\n",
              "      <td>-0.051757</td>\n",
              "      <td>-0.111823</td>\n",
              "      <td>-0.038719</td>\n",
              "    </tr>\n",
              "    <tr>\n",
              "      <th>2020-12-22</th>\n",
              "      <td>-0.128693</td>\n",
              "      <td>0.040076</td>\n",
              "      <td>0.026082</td>\n",
              "      <td>0.049968</td>\n",
              "      <td>0.059321</td>\n",
              "      <td>-0.013264</td>\n",
              "      <td>0.002602</td>\n",
              "      <td>0.048465</td>\n",
              "      <td>0.061892</td>\n",
              "      <td>0.154380</td>\n",
              "      <td>0.024978</td>\n",
              "      <td>0.067131</td>\n",
              "      <td>0.094968</td>\n",
              "      <td>0.010033</td>\n",
              "      <td>-0.016346</td>\n",
              "      <td>-0.011227</td>\n",
              "      <td>-0.027289</td>\n",
              "      <td>-0.053415</td>\n",
              "      <td>0.018150</td>\n",
              "      <td>-0.005058</td>\n",
              "      <td>-0.003386</td>\n",
              "      <td>-0.018919</td>\n",
              "      <td>0.036511</td>\n",
              "    </tr>\n",
              "    <tr>\n",
              "      <th>2020-12-23</th>\n",
              "      <td>-0.416835</td>\n",
              "      <td>-0.136053</td>\n",
              "      <td>-0.124250</td>\n",
              "      <td>-0.079010</td>\n",
              "      <td>-0.081300</td>\n",
              "      <td>-0.140768</td>\n",
              "      <td>-0.147584</td>\n",
              "      <td>-0.112547</td>\n",
              "      <td>-0.105435</td>\n",
              "      <td>-0.252872</td>\n",
              "      <td>-0.100756</td>\n",
              "      <td>-0.175706</td>\n",
              "      <td>-0.113539</td>\n",
              "      <td>-0.179641</td>\n",
              "      <td>-0.107141</td>\n",
              "      <td>-0.201388</td>\n",
              "      <td>-0.115232</td>\n",
              "      <td>-0.169906</td>\n",
              "      <td>-0.132331</td>\n",
              "      <td>-0.175275</td>\n",
              "      <td>-0.167100</td>\n",
              "      <td>-0.085785</td>\n",
              "      <td>-0.137046</td>\n",
              "    </tr>\n",
              "  </tbody>\n",
              "</table>\n",
              "</div>"
            ],
            "text/plain": [
              "            XRP_return  LINK_return  ...  FIL_return  ALGO_return\n",
              "2020-12-19   -0.014004    -0.002685  ...   -0.012282     0.004450\n",
              "2020-12-20   -0.032755    -0.026811  ...    0.007417    -0.044341\n",
              "2020-12-21   -0.072315    -0.055987  ...   -0.111823    -0.038719\n",
              "2020-12-22   -0.128693     0.040076  ...   -0.018919     0.036511\n",
              "2020-12-23   -0.416835    -0.136053  ...   -0.085785    -0.137046\n",
              "\n",
              "[5 rows x 23 columns]"
            ]
          },
          "metadata": {
            "tags": []
          },
          "execution_count": 41
        }
      ]
    },
    {
      "cell_type": "code",
      "metadata": {
        "colab": {
          "base_uri": "https://localhost:8080/"
        },
        "id": "A8IcWdmnhNeg",
        "outputId": "a6613bbc-da8a-4cbf-9cf3-efbb1f0c4f1a"
      },
      "source": [
        "Ytrain.head()"
      ],
      "execution_count": 42,
      "outputs": [
        {
          "output_type": "execute_result",
          "data": {
            "text/plain": [
              "2020-12-19   -0.010599\n",
              "2020-12-20   -0.029537\n",
              "2020-12-21    0.049424\n",
              "2020-12-22   -0.021303\n",
              "2020-12-23    0.019667\n",
              "Freq: D, Name: BTC_return, dtype: float64"
            ]
          },
          "metadata": {
            "tags": []
          },
          "execution_count": 42
        }
      ]
    },
    {
      "cell_type": "markdown",
      "metadata": {
        "id": "OhGiMd3Lhduz"
      },
      "source": [
        "# **Linear Regression**"
      ]
    },
    {
      "cell_type": "code",
      "metadata": {
        "colab": {
          "base_uri": "https://localhost:8080/"
        },
        "id": "DBrBVrGkhRiw",
        "outputId": "61e9ce23-e447-4d3f-aea5-4e5c0f04f77c"
      },
      "source": [
        "# 0 naive approach, 1 good prediction\r\n",
        "\r\n",
        "from sklearn.linear_model import LinearRegression\r\n",
        "model = LinearRegression()\r\n",
        "model.fit(Xtrain,Ytrain)\r\n",
        "model.score(Xtrain, Ytrain), model.score(Xtest,Ytest)"
      ],
      "execution_count": 44,
      "outputs": [
        {
          "output_type": "execute_result",
          "data": {
            "text/plain": [
              "(0.3628395517986307, -0.9297928675403409)"
            ]
          },
          "metadata": {
            "tags": []
          },
          "execution_count": 44
        }
      ]
    },
    {
      "cell_type": "code",
      "metadata": {
        "colab": {
          "base_uri": "https://localhost:8080/"
        },
        "id": "H4aIEUWeh1Bv",
        "outputId": "d41e30f9-eba1-4888-9618-2062fbfede8c"
      },
      "source": [
        "# We don't care about the value of the prediction just positive or negative\r\n",
        "\r\n",
        "Ptrain = model.predict(Xtrain)\r\n",
        "Ptest = model.predict(Xtest)\r\n",
        "\r\n",
        "np.mean(np.sign(Ptrain) == np.sign(Ytrain)), np.mean(np.sign(Ptest)==np.sign(Ytest))"
      ],
      "execution_count": 45,
      "outputs": [
        {
          "output_type": "execute_result",
          "data": {
            "text/plain": [
              "(0.6363636363636364, 0.5555555555555556)"
            ]
          },
          "metadata": {
            "tags": []
          },
          "execution_count": 45
        }
      ]
    },
    {
      "cell_type": "code",
      "metadata": {
        "colab": {
          "base_uri": "https://localhost:8080/"
        },
        "id": "GaUp-dgnlX8o",
        "outputId": "82be18ca-f707-4092-9251-4acb691bbe2e"
      },
      "source": [
        "# values obtaines in the predictions (it could be 0 = hold)\r\n",
        "set(np.sign(Ptrain)), set(np.sign(Ptest))"
      ],
      "execution_count": 49,
      "outputs": [
        {
          "output_type": "execute_result",
          "data": {
            "text/plain": [
              "({-1.0, 1.0}, {-1.0, 1.0})"
            ]
          },
          "metadata": {
            "tags": []
          },
          "execution_count": 49
        }
      ]
    },
    {
      "cell_type": "code",
      "metadata": {
        "colab": {
          "base_uri": "https://localhost:8080/"
        },
        "id": "6JK7ujWjlu7m",
        "outputId": "fb4ebce0-1e70-42d3-9d19-aecc0e6cdcdb"
      },
      "source": [
        "# Dates where the prediction and real value where similar (increase or decrease)\r\n",
        "\r\n",
        "np.sign(Ptest)==np.sign(Ytest)"
      ],
      "execution_count": 50,
      "outputs": [
        {
          "output_type": "execute_result",
          "data": {
            "text/plain": [
              "2021-02-12    False\n",
              "2021-02-13    False\n",
              "2021-02-14     True\n",
              "2021-02-15     True\n",
              "2021-02-16     True\n",
              "2021-02-17    False\n",
              "2021-02-18     True\n",
              "2021-02-19     True\n",
              "2021-02-20    False\n",
              "Freq: D, Name: BTC_return, dtype: bool"
            ]
          },
          "metadata": {
            "tags": []
          },
          "execution_count": 50
        }
      ]
    },
    {
      "cell_type": "code",
      "metadata": {
        "id": "d3ss1P6qmdUn"
      },
      "source": [
        "dfs_returns[\"Position\"] = 0\r\n",
        "dfs_returns.loc[1:-Ntest, \"Position\"] = (Ptrain > 0)\r\n",
        "dfs_returns.loc[-Ntest:-1, \"Position\"] = (Ptest > 0)"
      ],
      "execution_count": 51,
      "outputs": []
    },
    {
      "cell_type": "code",
      "metadata": {
        "id": "QmWsWwminG2N"
      },
      "source": [
        "dfs_returns[\"AlgoReturn\"] = dfs_returns[\"Position\"] * dfs_returns[\"BTC_return\"]"
      ],
      "execution_count": 53,
      "outputs": []
    },
    {
      "cell_type": "code",
      "metadata": {
        "colab": {
          "base_uri": "https://localhost:8080/"
        },
        "id": "AVstsuGTnhuF",
        "outputId": "a33f6eee-70b4-444f-fb23-f4e4129d7c51"
      },
      "source": [
        "# Total algo log return train\r\n",
        "dfs_returns.iloc[1:-Ntest][\"AlgoReturn\"].sum()"
      ],
      "execution_count": 54,
      "outputs": [
        {
          "output_type": "execute_result",
          "data": {
            "text/plain": [
              "0.8681398167241403"
            ]
          },
          "metadata": {
            "tags": []
          },
          "execution_count": 54
        }
      ]
    },
    {
      "cell_type": "code",
      "metadata": {
        "colab": {
          "base_uri": "https://localhost:8080/"
        },
        "id": "GKTHSXbKnx69",
        "outputId": "b7daf63e-f6d5-483c-b0bd-5fd277ba6769"
      },
      "source": [
        "# Total algo log return test\r\n",
        "dfs_returns.iloc[-Ntest:-1][\"AlgoReturn\"].sum()"
      ],
      "execution_count": 55,
      "outputs": [
        {
          "output_type": "execute_result",
          "data": {
            "text/plain": [
              "0.15798102646958556"
            ]
          },
          "metadata": {
            "tags": []
          },
          "execution_count": 55
        }
      ]
    },
    {
      "cell_type": "code",
      "metadata": {
        "colab": {
          "base_uri": "https://localhost:8080/"
        },
        "id": "PWGx_SInn6ly",
        "outputId": "2817ef5c-dd7f-4a9c-f50d-c29485585d3d"
      },
      "source": [
        "# Total return buy-hold \r\n",
        "Ytrain.sum(), Ytest.sum()"
      ],
      "execution_count": 64,
      "outputs": [
        {
          "output_type": "execute_result",
          "data": {
            "text/plain": [
              "(0.7769591724312581, 0.20411629949364696)"
            ]
          },
          "metadata": {
            "tags": []
          },
          "execution_count": 64
        }
      ]
    },
    {
      "cell_type": "markdown",
      "metadata": {
        "id": "VlEo47xorAvw"
      },
      "source": [
        "# **Logistic Regression**"
      ]
    },
    {
      "cell_type": "code",
      "metadata": {
        "colab": {
          "base_uri": "https://localhost:8080/"
        },
        "id": "w7wrSTR-rDCr",
        "outputId": "056b0092-5542-45f6-caf8-d644a63ba502"
      },
      "source": [
        "# C argument, controls regularization penalty, preventing large weights\r\n",
        "# We need to conver target in binary format \"C\"\r\n",
        "\r\n",
        "from sklearn.linear_model import LogisticRegression\r\n",
        "model = LogisticRegression(C=10)\r\n",
        "Ctrain = (Ytrain > 0)\r\n",
        "Ctest = (Ytest > 0)\r\n",
        "model.fit(Xtrain, Ctrain)\r\n",
        "model.score(Xtrain,Ctrain), model.score(Xtest, Ctest)"
      ],
      "execution_count": 58,
      "outputs": [
        {
          "output_type": "execute_result",
          "data": {
            "text/plain": [
              "(0.7636363636363637, 0.6666666666666666)"
            ]
          },
          "metadata": {
            "tags": []
          },
          "execution_count": 58
        }
      ]
    },
    {
      "cell_type": "code",
      "metadata": {
        "colab": {
          "base_uri": "https://localhost:8080/"
        },
        "id": "7F4HY6VGswtC",
        "outputId": "2b8ba5ec-633f-4bc0-dc5d-7cd8271a442c"
      },
      "source": [
        "Ptrain = model.predict(Xtrain)\r\n",
        "Ptest = model.predict(Xtest)\r\n",
        "\r\n",
        "set(Ptrain), set(Ptest)"
      ],
      "execution_count": 59,
      "outputs": [
        {
          "output_type": "execute_result",
          "data": {
            "text/plain": [
              "({False, True}, {False, True})"
            ]
          },
          "metadata": {
            "tags": []
          },
          "execution_count": 59
        }
      ]
    },
    {
      "cell_type": "code",
      "metadata": {
        "id": "oU1R6PQztEgy"
      },
      "source": [
        "# Assign return of the algorithm to the position column\r\n",
        "\r\n",
        "\r\n",
        "dfs_returns.loc[1:-Ntest, \"Position\"] = Ptrain\r\n",
        "dfs_returns.loc[-Ntest:-1, \"Position\"] = Ptest \r\n",
        "dfs_returns[\"AlgoReturn\"] = dfs_returns[\"Position\"] * dfs_returns[\"BTC_return\"]"
      ],
      "execution_count": 60,
      "outputs": []
    },
    {
      "cell_type": "code",
      "metadata": {
        "colab": {
          "base_uri": "https://localhost:8080/"
        },
        "id": "x5KNVfdItiSa",
        "outputId": "f95e4518-7cf3-4cf1-dd1c-0d1e24d1c14a"
      },
      "source": [
        "# Total algo log return train\r\n",
        "dfs_returns.iloc[1:-Ntest][\"AlgoReturn\"].sum()"
      ],
      "execution_count": 61,
      "outputs": [
        {
          "output_type": "execute_result",
          "data": {
            "text/plain": [
              "0.9660067026018117"
            ]
          },
          "metadata": {
            "tags": []
          },
          "execution_count": 61
        }
      ]
    },
    {
      "cell_type": "code",
      "metadata": {
        "colab": {
          "base_uri": "https://localhost:8080/"
        },
        "id": "VyOQog84tpAZ",
        "outputId": "b3dcb5f3-42e3-4e22-e7a3-1ffad771ccc8"
      },
      "source": [
        "# Total algo log return test\r\n",
        "dfs_returns.iloc[-Ntest:-1][\"AlgoReturn\"].sum()"
      ],
      "execution_count": 62,
      "outputs": [
        {
          "output_type": "execute_result",
          "data": {
            "text/plain": [
              "0.16143718649490513"
            ]
          },
          "metadata": {
            "tags": []
          },
          "execution_count": 62
        }
      ]
    },
    {
      "cell_type": "code",
      "metadata": {
        "colab": {
          "base_uri": "https://localhost:8080/"
        },
        "id": "CEtDPwEotuMp",
        "outputId": "fd9a2466-68ee-4041-81dc-b7e064683249"
      },
      "source": [
        "# Total return buy-hold\r\n",
        "Ytrain.sum(), Ytest.sum()"
      ],
      "execution_count": 63,
      "outputs": [
        {
          "output_type": "execute_result",
          "data": {
            "text/plain": [
              "(0.7769591724312581, 0.20411629949364696)"
            ]
          },
          "metadata": {
            "tags": []
          },
          "execution_count": 63
        }
      ]
    },
    {
      "cell_type": "markdown",
      "metadata": {
        "id": "HWmJt6zkuXuL"
      },
      "source": [
        "# **Random Forest classifier**"
      ]
    },
    {
      "cell_type": "code",
      "metadata": {
        "colab": {
          "base_uri": "https://localhost:8080/"
        },
        "id": "P-pMJytLubYo",
        "outputId": "8013585a-eae4-4d0c-fb34-142a902454e0"
      },
      "source": [
        "from sklearn.ensemble import RandomForestClassifier\r\n",
        "model =  RandomForestClassifier(random_state=3)\r\n",
        "model.fit(Xtrain,Ctrain)\r\n",
        "model.score(Xtrain, Ctrain), model.score(Xtest, Ctest)"
      ],
      "execution_count": 84,
      "outputs": [
        {
          "output_type": "execute_result",
          "data": {
            "text/plain": [
              "(1.0, 0.7777777777777778)"
            ]
          },
          "metadata": {
            "tags": []
          },
          "execution_count": 84
        }
      ]
    },
    {
      "cell_type": "code",
      "metadata": {
        "id": "xHBsnT6muhyx"
      },
      "source": [
        "Ptrain = model.predict(Xtrain)\r\n",
        "Ptest = model.predict(Xtest)"
      ],
      "execution_count": 85,
      "outputs": []
    },
    {
      "cell_type": "code",
      "metadata": {
        "id": "pu80p-_vvK8q"
      },
      "source": [
        "dfs_returns.loc[1:-Ntest, \"Position\"] = Ptrain\r\n",
        "dfs_returns.loc[-Ntest:-1, \"Position\"] = Ptest \r\n",
        "dfs_returns[\"AlgoReturn\"] = dfs_returns[\"Position\"] * dfs_returns[\"BTC_return\"]"
      ],
      "execution_count": 86,
      "outputs": []
    },
    {
      "cell_type": "code",
      "metadata": {
        "colab": {
          "base_uri": "https://localhost:8080/"
        },
        "id": "svo1RzD-vP8o",
        "outputId": "96b6f04e-1f84-487a-a2ae-d6e027314f93"
      },
      "source": [
        "# Total algo log return train\r\n",
        "dfs_returns.iloc[1:-Ntest][\"AlgoReturn\"].sum()"
      ],
      "execution_count": 87,
      "outputs": [
        {
          "output_type": "execute_result",
          "data": {
            "text/plain": [
              "1.4508469032384759"
            ]
          },
          "metadata": {
            "tags": []
          },
          "execution_count": 87
        }
      ]
    },
    {
      "cell_type": "code",
      "metadata": {
        "colab": {
          "base_uri": "https://localhost:8080/"
        },
        "id": "-aOj7ltRvSNo",
        "outputId": "cd013d9c-c330-4de7-9a9f-57fd3a21a5ab"
      },
      "source": [
        "# Total algo log return test\r\n",
        "dfs_returns.iloc[-Ntest:-1][\"AlgoReturn\"].sum()"
      ],
      "execution_count": 88,
      "outputs": [
        {
          "output_type": "execute_result",
          "data": {
            "text/plain": [
              "0.18980374009639345"
            ]
          },
          "metadata": {
            "tags": []
          },
          "execution_count": 88
        }
      ]
    },
    {
      "cell_type": "code",
      "metadata": {
        "colab": {
          "base_uri": "https://localhost:8080/"
        },
        "id": "cJdlk0jBvVKo",
        "outputId": "ef712e03-a5fb-4b91-bf7d-296b0c869990"
      },
      "source": [
        "# Total return buy-hold\r\n",
        "Ytrain.sum(), Ytest.sum()"
      ],
      "execution_count": 89,
      "outputs": [
        {
          "output_type": "execute_result",
          "data": {
            "text/plain": [
              "(0.7769591724312581, 0.20411629949364696)"
            ]
          },
          "metadata": {
            "tags": []
          },
          "execution_count": 89
        }
      ]
    }
  ]
}